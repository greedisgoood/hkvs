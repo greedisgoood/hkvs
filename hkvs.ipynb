{
 "cells": [
  {
   "cell_type": "code",
   "execution_count": 6,
   "metadata": {},
   "outputs": [
    {
     "name": "stdout",
     "output_type": "stream",
     "text": [
      "||| CameraIP 192.168.1.22 is opened: True\n"
     ]
    },
    {
     "ename": "KeyboardInterrupt",
     "evalue": "",
     "output_type": "error",
     "traceback": [
      "\u001b[1;31m------------------------------------------------------------------------\u001b[0m",
      "\u001b[1;31mKeyboardInterrupt\u001b[0m                      Traceback (most recent call last)",
      "\u001b[1;32m<ipython-input-6-ecfe99a259bc>\u001b[0m in \u001b[0;36m<module>\u001b[1;34m()\u001b[0m\n\u001b[0;32m     70\u001b[0m \"\"\"\n\u001b[0;32m     71\u001b[0m \u001b[1;32mif\u001b[0m \u001b[0m__name__\u001b[0m \u001b[1;33m==\u001b[0m \u001b[1;34m'__main__'\u001b[0m\u001b[1;33m:\u001b[0m\u001b[1;33m\u001b[0m\u001b[0m\n\u001b[1;32m---> 72\u001b[1;33m     \u001b[0mrun\u001b[0m\u001b[1;33m(\u001b[0m\u001b[1;33m)\u001b[0m\u001b[1;33m\u001b[0m\u001b[0m\n\u001b[0m",
      "\u001b[1;32m<ipython-input-6-ecfe99a259bc>\u001b[0m in \u001b[0;36mrun\u001b[1;34m()\u001b[0m\n\u001b[0;32m     56\u001b[0m \u001b[1;33m\u001b[0m\u001b[0m\n\u001b[0;32m     57\u001b[0m     \u001b[1;31m# video_capture_simplify(user_name, user_pwd, camera_ip)\u001b[0m\u001b[1;33m\u001b[0m\u001b[1;33m\u001b[0m\u001b[0m\n\u001b[1;32m---> 58\u001b[1;33m     \u001b[0mvideo_capture\u001b[0m\u001b[1;33m(\u001b[0m\u001b[0muser_name\u001b[0m\u001b[1;33m,\u001b[0m \u001b[0muser_pwd\u001b[0m\u001b[1;33m,\u001b[0m \u001b[0mcamera_ip\u001b[0m\u001b[1;33m,\u001b[0m \u001b[0mchannel_num\u001b[0m\u001b[1;33m=\u001b[0m\u001b[1;36m1\u001b[0m\u001b[1;33m)\u001b[0m\u001b[1;33m\u001b[0m\u001b[0m\n\u001b[0m\u001b[0;32m     59\u001b[0m \u001b[1;33m\u001b[0m\u001b[0m\n\u001b[0;32m     60\u001b[0m \u001b[1;33m\u001b[0m\u001b[0m\n",
      "\u001b[1;32m<ipython-input-6-ecfe99a259bc>\u001b[0m in \u001b[0;36mvideo_capture\u001b[1;34m(name, pwd, ip, channel_num)\u001b[0m\n\u001b[0;32m     44\u001b[0m \u001b[1;33m\u001b[0m\u001b[0m\n\u001b[0;32m     45\u001b[0m         \u001b[0mcv2\u001b[0m\u001b[1;33m.\u001b[0m\u001b[0mimshow\u001b[0m\u001b[1;33m(\u001b[0m\u001b[0mwindow_name\u001b[0m\u001b[1;33m,\u001b[0m \u001b[0mframe\u001b[0m\u001b[1;33m)\u001b[0m \u001b[1;32mif\u001b[0m \u001b[0msuccess\u001b[0m \u001b[1;32melse\u001b[0m \u001b[1;32mNone\u001b[0m\u001b[1;33m\u001b[0m\u001b[0m\n\u001b[1;32m---> 46\u001b[1;33m         \u001b[0mis_opened\u001b[0m \u001b[1;33m=\u001b[0m \u001b[1;32mFalse\u001b[0m \u001b[1;32mif\u001b[0m \u001b[0mcv2\u001b[0m\u001b[1;33m.\u001b[0m\u001b[0mwaitKey\u001b[0m\u001b[1;33m(\u001b[0m\u001b[1;36m1\u001b[0m\u001b[1;33m)\u001b[0m \u001b[1;33m==\u001b[0m \u001b[1;36m8\u001b[0m \u001b[1;32melse\u001b[0m \u001b[1;32mTrue\u001b[0m\u001b[1;33m\u001b[0m\u001b[0m\n\u001b[0m\u001b[0;32m     47\u001b[0m         \u001b[1;31m# press ENTER to quit, cv2.waitKey(1) == 13 == ord('\\r')\u001b[0m\u001b[1;33m\u001b[0m\u001b[1;33m\u001b[0m\u001b[0m\n\u001b[0;32m     48\u001b[0m         \u001b[1;31m# press BackSpace to quit, cv2.waitKey(1) == 8 == ord('\\b')\u001b[0m\u001b[1;33m\u001b[0m\u001b[1;33m\u001b[0m\u001b[0m\n",
      "\u001b[1;31mKeyboardInterrupt\u001b[0m: "
     ]
    }
   ],
   "source": [
    "import cv2\n",
    "\n",
    "\n",
    "\n",
    "\n",
    "def video_capture_simplify(name, pwd, ip):\n",
    "    cap = cv2.VideoCapture(\"rtsp://%s:%s@%s//Streaming/Channels/1\" % (name, pwd, ip))\n",
    "\n",
    "    while True:\n",
    "        success, frame = cap.read()\n",
    "        cv2.imshow(\"Camera\", frame)\n",
    "        cv2.waitKey(1)\n",
    "\n",
    "\n",
    "def video_capture(name, pwd, ip, channel_num=1):\n",
    "    video_path = \"rtsp://%s:%s@%s//Streaming/Channels/%d\" % (name, pwd, ip, channel_num)\n",
    "    window_name = \"CameraIP: %s\" % ip\n",
    "\n",
    "    cv2.namedWindow(window_name, flags=cv2.WINDOW_FREERATIO)\n",
    "    cap = cv2.VideoCapture(video_path)\n",
    "    is_opened = cap.isOpened()\n",
    "    print(\"||| CameraIP %s is opened: %s\" % (ip, is_opened))\n",
    "\n",
    "    while is_opened:\n",
    "        success, frame = cap.read()  # If frame is read correctly, it will be True.\n",
    "        # cap.read()  # You could use this way to skip frame\n",
    "\n",
    "        cv2.imshow(window_name, frame) if success else None\n",
    "        is_opened = False if cv2.waitKey(1) == 8 else True\n",
    "        # press ENTER to quit, cv2.waitKey(1) == 13 == ord('\\r')\n",
    "        # press BackSpace to quit, cv2.waitKey(1) == 8 == ord('\\b')\n",
    "\n",
    "    cap.release()\n",
    "    cv2.destroyWindow(window_name)\n",
    "\n",
    "\n",
    "def run():\n",
    "    user_name, user_pwd, camera_ip = \"admin\", \"a88888888\", \"192.168.1.22\"\n",
    "\n",
    "    # video_capture_simplify(user_name, user_pwd, camera_ip)\n",
    "    video_capture(user_name, user_pwd, camera_ip, channel_num=1)\n",
    "\n",
    "\n",
    "\"\"\" Reference:\n",
    "OpenCV tutorial\n",
    "https://docs.opencv.org/3.4.1/dd/d43/tutorial_py_video_display.html\n",
    "\n",
    "Ubuntu下使用Python-opencv获取海康威视RTSP码流教程\n",
    "https://blog.csdn.net/hui3909/article/details/53435379\n",
    "\n",
    "Python：从subprocess运行的子进程中实时获取输出\n",
    "https://blog.csdn.net/cnweike/article/details/73620250\n",
    "\"\"\"\n",
    "if __name__ == '__main__':\n",
    "    run()\n"
   ]
  },
  {
   "cell_type": "code",
   "execution_count": null,
   "metadata": {},
   "outputs": [],
   "source": []
  }
 ],
 "metadata": {
  "kernelspec": {
   "display_name": "Python 3",
   "language": "python",
   "name": "python3"
  },
  "language_info": {
   "codemirror_mode": {
    "name": "ipython",
    "version": 3
   },
   "file_extension": ".py",
   "mimetype": "text/x-python",
   "name": "python",
   "nbconvert_exporter": "python",
   "pygments_lexer": "ipython3",
   "version": "3.6.5"
  },
  "toc": {
   "base_numbering": 1,
   "nav_menu": {},
   "number_sections": true,
   "sideBar": true,
   "skip_h1_title": false,
   "title_cell": "Table of Contents",
   "title_sidebar": "Contents",
   "toc_cell": false,
   "toc_position": {},
   "toc_section_display": true,
   "toc_window_display": false
  }
 },
 "nbformat": 4,
 "nbformat_minor": 2
}
